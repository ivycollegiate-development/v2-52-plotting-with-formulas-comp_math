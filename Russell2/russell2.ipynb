{
 "cells": [
  {
   "cell_type": "code",
   "execution_count": 1,
   "metadata": {},
   "outputs": [
    {
     "ename": "SyntaxError",
     "evalue": "invalid character '‘' (U+2018) (555174977.py, line 9)",
     "output_type": "error",
     "traceback": [
      "\u001b[0;36m  Cell \u001b[0;32mIn[1], line 9\u001b[0;36m\u001b[0m\n\u001b[0;31m    plt.plot(distance, forece, ‘b-‘, label=f’Masses: {m1}kg and {m2}kg’)\u001b[0m\n\u001b[0m                               ^\u001b[0m\n\u001b[0;31mSyntaxError\u001b[0m\u001b[0;31m:\u001b[0m invalid character '‘' (U+2018)\n"
     ]
    }
   ],
   "source": [
    "import matplotlib.pyplot as plt \n",
    "import numpy as np \n",
    "G = 6.674e-11\n",
    "m1 = 1000\n",
    "m2 = 500\n",
    "distance = np.linspace(1, 10, 100)\n",
    "forece = G * (m1*m2)/(distance**2)\n",
    "plt.figure(figsize=(10, 6))\n",
    "plt.plot(distance, forece, ‘b-‘, label=f’Masses: {m1}kg and {m2}kg’)\n",
    "plt.xlabel(‘Distances(m)’)\n",
    "plt.ylabel(‘Gravational Force(N)’)\n",
    "plt.title(‘Gravational Forece vs Distance’)\n",
    "plt.grid(True, alpha=0.3)\n",
    "plt.legend()\n",
    "plt.show()"
   ]
  }
 ],
 "metadata": {
  "kernelspec": {
   "display_name": "Python 3",
   "language": "python",
   "name": "python3"
  },
  "language_info": {
   "codemirror_mode": {
    "name": "ipython",
    "version": 3
   },
   "file_extension": ".py",
   "mimetype": "text/x-python",
   "name": "python",
   "nbconvert_exporter": "python",
   "pygments_lexer": "ipython3",
   "version": "3.12.1"
  }
 },
 "nbformat": 4,
 "nbformat_minor": 2
}
