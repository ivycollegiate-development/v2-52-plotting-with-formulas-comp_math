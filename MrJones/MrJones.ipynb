{
 "cells": [
  {
   "cell_type": "code",
   "execution_count": null,
   "metadata": {
    "vscode": {
     "languageId": "plaintext"
    }
   },
   "outputs": [],
   "source": [
    "import matplotlib.pyplot as plt\n",
    "\n",
    "x = [0, 1, 2, 3, 4]\n",
    "y = [0, 1, 4, 9, 16]\n",
    "\n",
    "# Create the plot\n",
    "plt.plot(x, y, marker='o')  # 'o' creates dots at each data point\n",
    "\n",
    "# Add labels and title\n",
    "plt.xlabel('X Values')\n",
    "plt.ylabel('Y Values (X²)')\n",
    "plt.title('Quadratic Relationship')\n",
    "\n",
    "# Add grid\n",
    "plt.grid(True, linestyle='--', alpha=0.7)  # Dashed grid lines with 70% opacity\n",
    "\n",
    "plt.show()"
   ]
  }
 ],
 "metadata": {
  "language_info": {
   "name": "python"
  }
 },
 "nbformat": 4,
 "nbformat_minor": 2
}
